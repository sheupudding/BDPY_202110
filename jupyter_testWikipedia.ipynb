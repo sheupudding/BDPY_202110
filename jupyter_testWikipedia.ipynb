{
 "cells": [
  {
   "cell_type": "code",
   "execution_count": 1,
   "id": "25432566",
   "metadata": {},
   "outputs": [
    {
     "data": {
      "text/plain": [
       "'The Pythonidae, commonly known as pythons, are a family of nonvenomous  snakes found in Africa, Asia, and Australia. Among its members are some of the largest snakes in the world. Ten genera and 42 species are currently recognized.\\n\\n'"
      ]
     },
     "execution_count": 1,
     "metadata": {},
     "output_type": "execute_result"
    }
   ],
   "source": [
    "import wikipedia\n",
    "wikipedia.summary(\"Pythonidae\")"
   ]
  },
  {
   "cell_type": "code",
   "execution_count": 6,
   "id": "ea00168e",
   "metadata": {},
   "outputs": [
    {
     "data": {
      "text/plain": [
       "'臺北（俗字寫作台北；排灣語：Taihuku；臺灣話：Tâi-pak；客家话：Thòi-pet；英語：Taipei）是位於臺灣北部的都市，詞義為「臺灣之北」；原本做為地理名詞用來泛指北臺灣，19世紀末臺北建城後，漸用於專指以此城池為中心發展的都市。西元1949年國共內戰後，中國國民黨及中華民國政府遷至臺灣，台北定為中華民國首都。「臺北」依照定義的不同涵蓋不同的範圍。狹義的行政區劃上指臺北市，廣義上則指亦可泛指臺北市及周邊衛星市鎮相連而成的臺北都會區（臺北首都圈），包括臺北市、新北市、基隆市，人口700多萬人；有的機構定義上還會將臺北都會區擴大為包括桃園市所組成的臺北生活圈，人口超過920萬人，面積3678平方公里，為世界第43大都會區。\\n\\n\\n== 概述 ==\\n\\n臺北開墾的歷史相當悠久，臺灣原住民族部族之一的凱達格蘭族（或稱巴賽族、雷朗族）即世居於此。'"
      ]
     },
     "execution_count": 6,
     "metadata": {},
     "output_type": "execute_result"
    }
   ],
   "source": [
    "taipei = wikipedia.page(\"Taipei\")\n",
    "wikipedia.set_lang(\"zh\")\n",
    "wikipedia.summary(\"Taipei\", sentences=5)"
   ]
  },
  {
   "cell_type": "code",
   "execution_count": null,
   "id": "4134d9b8",
   "metadata": {},
   "outputs": [],
   "source": []
  }
 ],
 "metadata": {
  "kernelspec": {
   "display_name": "Python 3 (ipykernel)",
   "language": "python",
   "name": "python3"
  },
  "language_info": {
   "codemirror_mode": {
    "name": "ipython",
    "version": 3
   },
   "file_extension": ".py",
   "mimetype": "text/x-python",
   "name": "python",
   "nbconvert_exporter": "python",
   "pygments_lexer": "ipython3",
   "version": "3.7.9"
  }
 },
 "nbformat": 4,
 "nbformat_minor": 5
}
